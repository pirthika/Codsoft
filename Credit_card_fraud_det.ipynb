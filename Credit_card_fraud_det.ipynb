{
  "nbformat": 4,
  "nbformat_minor": 0,
  "metadata": {
    "colab": {
      "provenance": []
    },
    "kernelspec": {
      "name": "python3",
      "display_name": "Python 3"
    },
    "language_info": {
      "name": "python"
    }
  },
  "cells": [
    {
      "cell_type": "code",
      "execution_count": 1,
      "metadata": {
        "colab": {
          "base_uri": "https://localhost:8080/"
        },
        "id": "a47Sn4IoP2T1",
        "outputId": "b023a822-fd57-4c8d-d316-688fd6380be2"
      },
      "outputs": [
        {
          "output_type": "stream",
          "name": "stdout",
          "text": [
            "         cc_num       category    amt         name  \\\n",
            "0  2.703190e+15       misc_net   4.97     Jennifer   \n",
            "1  3.741250e+14  personal_care   8.40  Christopher   \n",
            "2  3.434730e+14   shopping_pos   7.39       Gloria   \n",
            "3  3.518670e+15       misc_net   2.08      Dorothy   \n",
            "4  5.812930e+11           home  76.69      William   \n",
            "\n",
            "                       street               city state      zip      lat  \\\n",
            "0              561 Perry Cove     Moravian Falls    NC  28654.0  36.0788   \n",
            "1   20937 Reed Lakes Apt. 271         Washington    DC  20012.0  38.9757   \n",
            "2  234 Bridges Wells Apt. 389  Center Tuftonboro    NH   3816.0  43.6849   \n",
            "3   537 Rice Square Suite 040            Milford    OH  45150.0  39.1657   \n",
            "4      39227 Mcpherson Shoals             Lahoma    OK  73754.0  36.3850   \n",
            "\n",
            "      long  city_pop                         trans_num  merch_lat  merch_long  \\\n",
            "0 -81.1781    3495.0  0b242abb623afc578575680df30655b9  36.011293  -82.048315   \n",
            "1 -77.0282  601723.0  ac60c99d1246e85ec8645c4ff1aa8b32  39.051843  -77.732759   \n",
            "2 -71.2551    1368.0  efaa6117f412d3a23505e37e36bd184e  43.410646  -71.364839   \n",
            "3 -84.2330   31394.0  1bfb72c34ec1c43bd57f34a5e9857d8c  39.122736  -84.730753   \n",
            "4 -98.0727    1078.0  b019d823a81813eed36a64c43e3db415  35.771666  -98.757615   \n",
            "\n",
            "   is_fraud  \n",
            "0       0.0  \n",
            "1       0.0  \n",
            "2       0.0  \n",
            "3       0.0  \n",
            "4       0.0  \n"
          ]
        }
      ],
      "source": [
        "import pandas as pd\n",
        "from sklearn.model_selection import train_test_split\n",
        "from sklearn.preprocessing import StandardScaler, OneHotEncoder\n",
        "from sklearn.compose import ColumnTransformer\n",
        "from sklearn.pipeline import Pipeline\n",
        "from sklearn.linear_model import LogisticRegression\n",
        "from sklearn.tree import DecisionTreeClassifier\n",
        "from sklearn.ensemble import RandomForestClassifier\n",
        "from sklearn.impute import SimpleImputer\n",
        "from sklearn.metrics import accuracy_score, precision_score, recall_score, f1_score\n",
        "\n",
        "# Load the dataset\n",
        "data = pd.read_csv(\"fraud det.csv\")\n",
        "\n",
        "# Display the first few rows of the dataset\n",
        "print(data.head())\n",
        "\n",
        "# Drop rows with missing target values\n",
        "data = data.dropna(subset=['is_fraud'])\n",
        "\n",
        "# Separate features and target\n",
        "X = data.drop(['is_fraud', 'cc_num', 'name', 'street', 'city', 'state', 'zip', 'trans_num'], axis=1)  # Drop non-numeric and non-relevant columns\n",
        "y = data['is_fraud']\n",
        "\n"
      ]
    },
    {
      "cell_type": "code",
      "source": [
        "# Identify categorical columns\n",
        "categorical_cols = ['category']  # Add more categorical columns if present\n",
        "\n",
        "# Define preprocessing steps\n",
        "preprocessor = ColumnTransformer(\n",
        "    transformers=[\n",
        "        ('num', Pipeline(steps=[\n",
        "            ('imputer', SimpleImputer(strategy='mean')),\n",
        "            ('scaler', StandardScaler())\n",
        "        ]), X.select_dtypes(include=['float64', 'int64']).columns),\n",
        "        ('cat', Pipeline(steps=[\n",
        "            ('imputer', SimpleImputer(strategy='most_frequent')),\n",
        "            ('onehot', OneHotEncoder(handle_unknown='ignore'))\n",
        "        ]), categorical_cols)\n",
        "    ])\n",
        "\n",
        "# Create preprocessing and training pipeline\n",
        "def create_pipeline(model):\n",
        "    return Pipeline(steps=[('preprocessor', preprocessor),\n",
        "                           ('classifier', model)])\n",
        "\n",
        "# Initialize models\n",
        "rand_forest = create_pipeline(RandomForestClassifier())\n",
        "\n",
        "# Split the data into training and testing sets\n",
        "X_train, X_test, y_train, y_test = train_test_split(X, y, test_size=0.2, random_state=42)\n",
        "\n",
        "# Train the models\n",
        "models = {'Random Forest': rand_forest}\n",
        "\n",
        "for model_name, model in models.items():\n",
        "    model.fit(X_train, y_train)\n",
        "\n",
        "# Evaluate the models\n",
        "for model_name, model in models.items():\n",
        "    y_pred = model.predict(X_test)\n",
        "    print(f'{model_name} Performance:')\n",
        "    print(f'Accuracy: {accuracy_score(y_test, y_pred):.4f}')\n",
        "    print(f'Precision: {precision_score(y_test, y_pred):.4f}')\n",
        "    print(f'Recall: {recall_score(y_test, y_pred):.4f}')\n",
        "    print(f'F1 Score: {f1_score(y_test, y_pred):.4f}')\n",
        "    print('---')\n",
        "\n"
      ],
      "metadata": {
        "colab": {
          "base_uri": "https://localhost:8080/"
        },
        "id": "e6WZc3Ay16B5",
        "outputId": "1c159ccb-6a64-4c74-9a47-d60400d6926f"
      },
      "execution_count": 4,
      "outputs": [
        {
          "output_type": "stream",
          "name": "stdout",
          "text": [
            "Random Forest Performance:\n",
            "Accuracy: 0.9976\n",
            "Precision: 0.8130\n",
            "Recall: 0.6702\n",
            "F1 Score: 0.7348\n",
            "---\n"
          ]
        }
      ]
    },
    {
      "cell_type": "code",
      "source": [
        "# User input for evaluation\n",
        "def evaluate_transaction(input_data):\n",
        "    input_data_df = pd.DataFrame([input_data], columns=X.columns)\n",
        "    results = {}\n",
        "    for model_name, model in models.items():\n",
        "        prediction = model.predict(input_data_df)[0]\n",
        "        results[model_name] = 'Fraudulent' if prediction == 1 else 'Legitimate'\n",
        "    return results\n",
        "\n",
        "# Example usage for user input\n",
        "def get_user_input():\n",
        "    print(\"Enter the transaction details:\")\n",
        "    user_input = {}\n",
        "    for col in X.columns:\n",
        "        value = input(f\"{col}: \")\n",
        "        if col in categorical_cols:\n",
        "            user_input[col] = value\n",
        "        else:\n",
        "            user_input[col] = float(value)\n",
        "    return user_input\n",
        "\n",
        "# Get user input and evaluate\n",
        "user_input = get_user_input()\n",
        "results = evaluate_transaction(user_input)\n",
        "print(\"Prediction Results:\")\n",
        "for model_name, result in results.items():\n",
        "    print(f\"{model_name}: {result}\")\n"
      ],
      "metadata": {
        "colab": {
          "base_uri": "https://localhost:8080/"
        },
        "id": "54pntDB51_7S",
        "outputId": "9b6e972d-dced-4f8a-cbad-70d45e2d88b3"
      },
      "execution_count": 5,
      "outputs": [
        {
          "output_type": "stream",
          "name": "stdout",
          "text": [
            "Enter the transaction details:\n",
            "category: misc_net\n",
            "amt: 4.97\n",
            "lat: 36.0788\n",
            "long:  -82.048315\n",
            "city_pop: 3495\n",
            "merch_lat: 36.01129\n",
            "merch_long: 36.01129\n",
            "Prediction Results:\n",
            "Random Forest: Legitimate\n"
          ]
        }
      ]
    }
  ]
}