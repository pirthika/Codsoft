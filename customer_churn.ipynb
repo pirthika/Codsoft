{
  "nbformat": 4,
  "nbformat_minor": 0,
  "metadata": {
    "colab": {
      "provenance": []
    },
    "kernelspec": {
      "name": "python3",
      "display_name": "Python 3"
    },
    "language_info": {
      "name": "python"
    }
  },
  "cells": [
    {
      "cell_type": "code",
      "source": [
        "import pandas as pd\n",
        "from sklearn.model_selection import train_test_split\n",
        "from sklearn.preprocessing import StandardScaler, LabelEncoder\n",
        "from sklearn.ensemble import RandomForestClassifier\n",
        "from sklearn.metrics import classification_report, confusion_matrix\n",
        "from sklearn.metrics import accuracy_score"
      ],
      "metadata": {
        "id": "H9fsdTeg0rLP"
      },
      "execution_count": 17,
      "outputs": []
    },
    {
      "cell_type": "code",
      "source": [
        "\n",
        "# Load and explore data (assuming data is already cleaned and preprocessed)\n",
        "data = pd.read_csv('Churn_Modelling.csv')\n",
        "\n",
        "# Initialize LabelEncoder\n",
        "label_encoder_geography = LabelEncoder()\n",
        "label_encoder_gender = LabelEncoder()\n",
        "\n",
        "# Encode categorical columns\n",
        "data['Geography'] = label_encoder_geography.fit_transform(data['Geography'])\n",
        "data['Gender'] = label_encoder_gender.fit_transform(data['Gender'])\n",
        "\n",
        "#  Define features and target variable\n",
        "features = ['CreditScore', 'Geography', 'Gender', 'Age', 'Balance']\n",
        "X = data[features]\n",
        "y = data['Exited']  # Target variable (Churn indicator: 0 = No Churn, 1 = Churn)\n",
        "\n",
        "# Split data into training and testing sets\n",
        "X_train, X_test, y_train, y_test = train_test_split(X, y, test_size=0.2, random_state=42)\n",
        "\n",
        "# Feature scaling\n",
        "scaler = StandardScaler()\n",
        "X_train_scaled = scaler.fit_transform(X_train)\n",
        "X_test_scaled = scaler.transform(X_test)\n",
        "\n",
        "# Model training and evaluation (Random Forest example)\n",
        "model = RandomForestClassifier(n_estimators=100, random_state=42)\n",
        "model.fit(X_train_scaled, y_train)\n",
        "\n",
        "# Predictions for training set\n",
        "y_train_pred = model.predict(X_train_scaled)\n",
        "\n",
        "# Calculate accuracy on training data\n",
        "accuracy_train = accuracy_score(y_train, y_train_pred)\n",
        "print(\"Accuracy for the training model:\", accuracy_train)\n",
        "\n",
        "# Predictions for test set\n",
        "y_pred = model.predict(X_test_scaled)\n",
        "\n",
        "# Calculate accuracy\n",
        "accuracy = accuracy_score(y_test, y_pred)\n",
        "print(\"Accuracy for the test model:\", accuracy)\n",
        "\n",
        "# Evaluation\n",
        "print(\"Classification Report:\")\n",
        "print(classification_report(y_test, y_pred))\n",
        "\n",
        "print(\"Confusion Matrix:\")\n",
        "print(confusion_matrix(y_test, y_pred))"
      ],
      "metadata": {
        "colab": {
          "base_uri": "https://localhost:8080/"
        },
        "id": "GP8dbYOrO2dI",
        "outputId": "a4947725-27d9-4009-9e72-afc62a8c30c4"
      },
      "execution_count": 18,
      "outputs": [
        {
          "output_type": "stream",
          "name": "stdout",
          "text": [
            "Accuracy for the training model: 0.99775\n",
            "Accuracy for the test model: 0.8025\n",
            "Classification Report:\n",
            "              precision    recall  f1-score   support\n",
            "\n",
            "           0       0.85      0.91      0.88      1607\n",
            "           1       0.50      0.35      0.41       393\n",
            "\n",
            "    accuracy                           0.80      2000\n",
            "   macro avg       0.67      0.63      0.65      2000\n",
            "weighted avg       0.78      0.80      0.79      2000\n",
            "\n",
            "Confusion Matrix:\n",
            "[[1468  139]\n",
            " [ 256  137]]\n"
          ]
        }
      ]
    },
    {
      "cell_type": "code",
      "source": [
        "# Function to predict churn for new customer input\n",
        "def predict_churn(input_data):\n",
        "    # Encode categorical features using the same encoders\n",
        "    input_data['Geography'] = label_encoder_geography.transform([input_data['Geography']])[0]\n",
        "    input_data['Gender'] = label_encoder_gender.transform([input_data['Gender']])[0]\n",
        "\n",
        "    # Create DataFrame from input data\n",
        "    input_df = pd.DataFrame([input_data])\n",
        "\n",
        "    # Scale features using the same scaler\n",
        "    input_scaled = scaler.transform(input_df)\n",
        "\n",
        "    # Predict churn\n",
        "    prediction = model.predict(input_scaled)\n",
        "    return 'Churn' if prediction[0] == 1 else 'No Churn'\n",
        "\n",
        "# Collect user input\n",
        "def get_user_input():\n",
        "    user_input = {}\n",
        "    user_input['CreditScore'] = int(input(\"Enter Credit Score: \"))\n",
        "    user_input['Geography'] = input(\"Enter Geography (France, Spain, Germany): \")\n",
        "    user_input['Gender'] = input(\"Enter Gender (Male, Female): \")\n",
        "    user_input['Age'] = int(input(\"Enter Age: \"))\n",
        "    user_input['Balance'] = float(input(\"Enter Balance: \"))\n",
        "    return user_input\n",
        "\n",
        "# Get user input and predict churn\n",
        "user_input = get_user_input()\n",
        "result = predict_churn(user_input)\n",
        "print(\"Churn Prediction for the given input data:\", result)\n"
      ],
      "metadata": {
        "colab": {
          "base_uri": "https://localhost:8080/"
        },
        "id": "-MZFc0ybLVuD",
        "outputId": "5aa8bf73-fbaf-4e81-815e-27050734afb3"
      },
      "execution_count": 19,
      "outputs": [
        {
          "output_type": "stream",
          "name": "stdout",
          "text": [
            "Enter Credit Score: 619\n",
            "Enter Geography (France, Spain, Germany): France\n",
            "Enter Gender (Male, Female): Female\n",
            "Enter Age: 42\n",
            "Enter Balance: 0\n",
            "Churn Prediction for the given input data: Churn\n"
          ]
        }
      ]
    }
  ]
}